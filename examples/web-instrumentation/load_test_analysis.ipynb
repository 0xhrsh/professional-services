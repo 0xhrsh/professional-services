{
  "nbformat": 4,
  "nbformat_minor": 0,
  "metadata": {
    "colab": {
      "name": "Load Test Log Queries",
      "provenance": [],
      "collapsed_sections": [
        "6AZnmE2XGXrq",
        "sexUkYLdGc0z"
      ],
      "toc_visible": true
    },
    "kernelspec": {
      "display_name": "Python 3",
      "name": "python3"
    }
  },
  "cells": [
    {
      "cell_type": "markdown",
      "metadata": {
        "id": "UbgapGliFILi",
        "colab_type": "text"
      },
      "source": [
        "## License"
      ]
    },
    {
      "cell_type": "markdown",
      "metadata": {
        "id": "2l5ES4VuElhc",
        "colab_type": "text"
      },
      "source": [
        "Copyright 2020 Google LLC\n",
        "\n",
        "Licensed under the Apache License, Version 2.0 (the \"License\");\n",
        "you may not use this file except in compliance with the License.\n",
        "You may obtain a copy of the License at\n",
        "\n",
        "      http://www.apache.org/licenses/LICENSE-2.0\n",
        "\n",
        "Unless required by applicable law or agreed to in writing, software\n",
        "distributed under the License is distributed on an \"AS IS\" BASIS,\n",
        "WITHOUT WARRANTIES OR CONDITIONS OF ANY KIND, either express or implied.\n",
        "See the License for the specific language governing permissions and\n",
        "limitations under the License.\n"
      ]
    },
    {
      "cell_type": "markdown",
      "metadata": {
        "id": "W7i1IleCdIEZ",
        "colab_type": "text"
      },
      "source": [
        "# Load test analysis"
      ]
    },
    {
      "cell_type": "markdown",
      "metadata": {
        "id": "6AZnmE2XGXrq",
        "colab_type": "text"
      },
      "source": [
        "## Initialization"
      ]
    },
    {
      "cell_type": "code",
      "metadata": {
        "colab_type": "code",
        "id": "XHUPlLRgNBgS",
        "colab": {}
      },
      "source": [
        "from google.colab import auth\n",
        "auth.authenticate_user()\n",
        "project_id = '[your project id]'"
      ],
      "execution_count": 0,
      "outputs": []
    },
    {
      "cell_type": "markdown",
      "metadata": {
        "id": "sexUkYLdGc0z",
        "colab_type": "text"
      },
      "source": [
        "## Log Overview"
      ]
    },
    {
      "cell_type": "code",
      "metadata": {
        "colab_type": "code",
        "id": "nFF9Wz1CAyVI",
        "colab": {}
      },
      "source": [
        "import pandas as pd\n",
        "df = pd.io.gbq.read_gbq('''\n",
        "  SELECT\n",
        "  count(*) as total\n",
        "FROM\n",
        "  `web_instr_container.stdout_20200129`\n",
        "''', project_id=project_id)\n",
        "\n",
        "total = df.total[0]\n",
        "print(f'Log records: {total}')"
      ],
      "execution_count": 0,
      "outputs": []
    },
    {
      "cell_type": "markdown",
      "metadata": {
        "id": "gPGqwNuNEjMK",
        "colab_type": "text"
      },
      "source": [
        ""
      ]
    },
    {
      "cell_type": "markdown",
      "metadata": {
        "id": "YgkJ4CrhFToC",
        "colab_type": "text"
      },
      "source": [
        "## Client Latency"
      ]
    },
    {
      "cell_type": "code",
      "metadata": {
        "id": "hNHRDHQwFWLa",
        "colab_type": "code",
        "outputId": "bf1a17ee-1e42-455d-f4be-4fdf03b5f84e",
        "colab": {
          "base_uri": "https://localhost:8080/",
          "height": 297
        }
      },
      "source": [
        "import pandas as pd\n",
        "df = pd.io.gbq.read_gbq('''\n",
        "SELECT\n",
        "  EXTRACT(MINUTE FROM timestamp) AS Minute,\n",
        "  REGEXP_EXTRACT(textPayload, r\"LoadTest: latency: ([0-9]+),\") AS Latency\n",
        "FROM \n",
        "  `web_instr_container.stdout_20200129`\n",
        "WHERE\n",
        "  EXTRACT(HOUR FROM timestamp) > 10\n",
        "  AND\n",
        "  EXTRACT(MINUTE FROM timestamp) > 10\n",
        "  AND\n",
        "  EXTRACT(MINUTE FROM timestamp) < 20\n",
        "ORDER BY\n",
        "  Minute\n",
        "''', project_id=project_id)\n",
        "df1 = df[pd.isnull(df['Latency']) == False]\n",
        "df1 = df1.astype({'Minute': 'int64', 'Latency': 'int64'})\n",
        "latency = df1.groupby('Minute').median()\n",
        "ax = latency.plot()\n",
        "ax.set_xlabel('Time (min)')\n",
        "ax.set_ylabel('Median Client Latency (ms)')"
      ],
      "execution_count": 0,
      "outputs": [
        {
          "output_type": "execute_result",
          "data": {
            "text/plain": [
              "Text(0, 0.5, 'Median Client Latency (ms)')"
            ]
          },
          "metadata": {
            "tags": []
          },
          "execution_count": 23
        },
        {
          "output_type": "display_data",
          "data": {
            "image/png": "[encoded data removed]",
            "text/plain": [
              "<Figure size 432x288 with 1 Axes>"
            ]
          },
          "metadata": {
            "tags": []
          }
        }
      ]
    },
    {
      "cell_type": "markdown",
      "metadata": {
        "id": "zVnd4pgzj0ze",
        "colab_type": "text"
      },
      "source": [
        "## Scatter Plot"
      ]
    },
    {
      "cell_type": "code",
      "metadata": {
        "id": "AwHu2e3zIUCh",
        "colab_type": "code",
        "outputId": "04228946-2aef-461d-db75-ab67f53d12fe",
        "colab": {
          "base_uri": "https://localhost:8080/",
          "height": 296
        }
      },
      "source": [
        "df = pd.io.gbq.read_gbq('''\n",
        "SELECT\n",
        "  EXTRACT(SECOND FROM timestamp) AS Seconds,\n",
        "  REGEXP_EXTRACT(textPayload, r\"LoadTest: latency: ([0-9]+),\") AS Latency\n",
        "FROM \n",
        "  `web_instr_container.stdout_20200129`\n",
        "WHERE\n",
        "  EXTRACT(HOUR FROM timestamp) > 10\n",
        "  AND\n",
        "  EXTRACT(MINUTE FROM timestamp) > 14\n",
        "  AND\n",
        "  EXTRACT(MINUTE FROM timestamp) < 18\n",
        "ORDER BY\n",
        "  Seconds\n",
        "''', project_id=project_id)\n",
        "df1 = df[pd.isnull(df['Latency']) == False]\n",
        "df1 = df1.astype({'Seconds': 'int64', 'Latency': 'int64'})\n",
        "ax = df1.plot.scatter(x='Seconds', y='Latency', c='DarkBlue')\n",
        "ax.set_xlabel('Time (s)')\n",
        "ax.set_ylabel('Client Latency (ms)')"
      ],
      "execution_count": 0,
      "outputs": [
        {
          "output_type": "execute_result",
          "data": {
            "text/plain": [
              "Text(0, 0.5, 'Client Latency (ms)')"
            ]
          },
          "metadata": {
            "tags": []
          },
          "execution_count": 20
        },
        {
          "output_type": "display_data",
          "data": {
            "image/png": "[encoded data removed]",
            "text/plain": [
              "<Figure size 432x288 with 1 Axes>"
            ]
          },
          "metadata": {
            "tags": []
          }
        }
      ]
    },
    {
      "cell_type": "markdown",
      "metadata": {
        "id": "Mi4EGHIwd4jK",
        "colab_type": "text"
      },
      "source": [
        "## Responses"
      ]
    },
    {
      "cell_type": "code",
      "metadata": {
        "colab_type": "code",
        "id": "y318gNmwU57S",
        "outputId": "2a51ef52-cac5-4f92-e48d-22b17eae5d8d",
        "colab": {
          "base_uri": "https://localhost:8080/",
          "height": 142
        }
      },
      "source": [
        "import pandas as pd\n",
        "project_id = 'alexamies-alert-demo'\n",
        "df = pd.io.gbq.read_gbq('''\n",
        "SELECT\n",
        "  EXTRACT(MINUTE FROM timestamp) as Minute,\n",
        "  httpRequest.status AS Status\n",
        "FROM\n",
        "   `alexamies-alert-demo.load_balancer_logs.requests_20200124`\n",
        "GROUP BY\n",
        "  Minute, Status\n",
        "ORDER BY Minute, Status\n",
        "''', project_id=project_id)\n",
        "df.head(20)"
      ],
      "execution_count": 0,
      "outputs": [
        {
          "output_type": "execute_result",
          "data": {
            "text/html": [
              "<div>\n",
              "<style scoped>\n",
              "    .dataframe tbody tr th:only-of-type {\n",
              "        vertical-align: middle;\n",
              "    }\n",
              "\n",
              "    .dataframe tbody tr th {\n",
              "        vertical-align: top;\n",
              "    }\n",
              "\n",
              "    .dataframe thead th {\n",
              "        text-align: right;\n",
              "    }\n",
              "</style>\n",
              "<table border=\"1\" class=\"dataframe\">\n",
              "  <thead>\n",
              "    <tr style=\"text-align: right;\">\n",
              "      <th></th>\n",
              "      <th>Minute</th>\n",
              "      <th>Status</th>\n",
              "    </tr>\n",
              "  </thead>\n",
              "  <tbody>\n",
              "    <tr>\n",
              "      <th>0</th>\n",
              "      <td>16</td>\n",
              "      <td>200</td>\n",
              "    </tr>\n",
              "    <tr>\n",
              "      <th>1</th>\n",
              "      <td>16</td>\n",
              "      <td>304</td>\n",
              "    </tr>\n",
              "    <tr>\n",
              "      <th>2</th>\n",
              "      <td>17</td>\n",
              "      <td>200</td>\n",
              "    </tr>\n",
              "  </tbody>\n",
              "</table>\n",
              "</div>"
            ],
            "text/plain": [
              "   Minute  Status\n",
              "0      16     200\n",
              "1      16     304\n",
              "2      17     200"
            ]
          },
          "metadata": {
            "tags": []
          },
          "execution_count": 8
        }
      ]
    },
    {
      "cell_type": "code",
      "metadata": {
        "id": "qweYw59UL7In",
        "colab_type": "code",
        "colab": {}
      },
      "source": [
        ""
      ],
      "execution_count": 0,
      "outputs": []
    }
  ]
}